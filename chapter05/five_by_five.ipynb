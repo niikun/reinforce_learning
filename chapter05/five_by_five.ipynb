{
 "cells": [
  {
   "cell_type": "code",
   "execution_count": 5,
   "metadata": {},
   "outputs": [],
   "source": [
    "import numpy as np\n",
    "import random"
   ]
  },
  {
   "cell_type": "code",
   "execution_count": 10,
   "metadata": {},
   "outputs": [],
   "source": [
    "# 環境の設定\n",
    "grid_size = 5\n",
    "goal_state = (4, 4)\n",
    "obstacle_state = (2, 2)\n",
    "actions = {0: (-1, 0), 1: (1, 0), 2: (0, -1), 3: (0, 1)}  # 上, 下, 左, 右\n",
    "action_names = [\"↑\", \"↓\", \"←\", \"→\"]\n",
    "\n",
    "# パラメータ設定\n",
    "epsilon = 0.1  # 探索率\n",
    "gamma = 0.9    # 割引率\n",
    "episodes = 5000  # エピソード数\n",
    "\n",
    "# 初期化\n",
    "Q = np.zeros((grid_size, grid_size, len(actions)))  # Q(s, a)\n",
    "Returns = [[[] for _ in range(len(actions))] for _ in range(grid_size * grid_size)]  # 各状態-行動ペアのリターンリスト\n",
    "policy = np.full((grid_size, grid_size, len(actions)), 1 / len(actions))  # ε-softポリシー\n",
    "\n",
    "# 状態からインデックスを取得する関数\n",
    "def state_to_index(state):\n",
    "    return state[0] * grid_size + state[1]\n",
    "\n",
    "# 行動を適用して次の状態を取得\n",
    "def apply_action(state, action):\n",
    "    next_state = (state[0] + actions[action][0], state[1] + actions[action][1])\n",
    "    # 境界チェック\n",
    "    if next_state[0] < 0 or next_state[0] >= grid_size or next_state[1] < 0 or next_state[1] >= grid_size:\n",
    "        next_state = state  # 境界外なら元の状態にとどまる\n",
    "    return next_state\n",
    "\n",
    "# エピソード生成\n",
    "def generate_episode():\n",
    "    state = (random.randint(0, grid_size - 1), random.randint(0, grid_size - 1))  # ランダムな初期状態\n",
    "    episode = []\n",
    "    while state != goal_state:\n",
    "        action = np.random.choice(list(actions.keys()), p=policy[state[0], state[1]])\n",
    "        next_state = apply_action(state, action)\n",
    "        reward = 1 if next_state == goal_state else -1 if next_state == obstacle_state else 0\n",
    "        episode.append((state, action, reward))\n",
    "        state = next_state\n",
    "    return episode\n",
    "\n",
    "# 学習ループ\n",
    "for _ in range(episodes):\n",
    "    episode = generate_episode()\n",
    "    G = 0\n",
    "    visited = set()\n",
    "\n",
    "    for step in reversed(episode):\n",
    "        state, action, reward = step\n",
    "        G = gamma * G + reward\n",
    "        pair = (state, action)\n",
    "        if pair not in visited:  # 初回訪問のみ処理\n",
    "            visited.add(pair)\n",
    "            idx = state_to_index(state)\n",
    "            Returns[idx][action].append(G)\n",
    "            Q[state[0], state[1], action] = np.mean(Returns[idx][action])  # Q値を更新\n",
    "\n",
    "            # ポリシー改善\n",
    "            best_action = np.argmax(Q[state[0], state[1]])\n",
    "            for a in range(len(actions)):\n",
    "                if a == best_action:\n",
    "                    policy[state[0], state[1], a] = 1 - epsilon + epsilon / len(actions)\n",
    "                else:\n",
    "                    policy[state[0], state[1], a] = epsilon / len(actions)"
   ]
  },
  {
   "cell_type": "code",
   "execution_count": 11,
   "metadata": {},
   "outputs": [
    {
     "name": "stdout",
     "output_type": "stream",
     "text": [
      "最適ポリシー:\n",
      "↓ ↓ → → ↓\n",
      "↓ ↓ → ↓ ↓\n",
      "↓ ↓ X → ↓\n",
      "↓ ↓ ↓ ↓ ↓\n",
      "→ → → → G\n"
     ]
    }
   ],
   "source": [
    "# 学習結果を可視化\n",
    "print(\"最適ポリシー:\")\n",
    "optimal_policy = np.full((grid_size, grid_size), \"\", dtype=object)\n",
    "for i in range(grid_size):\n",
    "    for j in range(grid_size):\n",
    "        if (i, j) == goal_state:\n",
    "            optimal_policy[i, j] = \"G\"  # ゴール\n",
    "        elif (i, j) == obstacle_state:\n",
    "            optimal_policy[i, j] = \"X\"  # 障害物\n",
    "        else:\n",
    "            best_action = np.argmax(Q[i, j])\n",
    "            optimal_policy[i, j] = action_names[best_action]\n",
    "\n",
    "for row in optimal_policy:\n",
    "    print(\" \".join(row))"
   ]
  },
  {
   "cell_type": "code",
   "execution_count": null,
   "metadata": {},
   "outputs": [],
   "source": []
  }
 ],
 "metadata": {
  "kernelspec": {
   "display_name": "Python 3",
   "language": "python",
   "name": "python3"
  },
  "language_info": {
   "codemirror_mode": {
    "name": "ipython",
    "version": 3
   },
   "file_extension": ".py",
   "mimetype": "text/x-python",
   "name": "python",
   "nbconvert_exporter": "python",
   "pygments_lexer": "ipython3",
   "version": "3.12.1"
  }
 },
 "nbformat": 4,
 "nbformat_minor": 2
}
