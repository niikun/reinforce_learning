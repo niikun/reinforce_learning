{
 "cells": [
  {
   "cell_type": "markdown",
   "metadata": {},
   "source": [
    "# Montecarlo simulation of the Ising model "
   ]
  },
  {
   "cell_type": "code",
   "execution_count": 2,
   "metadata": {},
   "outputs": [],
   "source": [
    "import numpy as np\n",
    "from collections import defaultdict"
   ]
  },
  {
   "cell_type": "markdown",
   "metadata": {},
   "source": [
    "defaultdict は Python の collections モジュールにあるクラスで、通常の辞書 (dict) を拡張したものです。defaultdict を使うと、辞書に存在しないキーにアクセスした場合に自動的に初期値を生成する機能が加わります。"
   ]
  },
  {
   "cell_type": "code",
   "execution_count": 3,
   "metadata": {},
   "outputs": [
    {
     "name": "stdout",
     "output_type": "stream",
     "text": [
      "0\n",
      "0\n",
      "1\n",
      "defaultdict(<class 'int'>, {'a': 1, 'b': 0})\n"
     ]
    }
   ],
   "source": [
    "from collections import defaultdict\n",
    "\n",
    "# 初期値を0に設定するdefaultdict\n",
    "dd = defaultdict(int)\n",
    "\n",
    "# 存在しないキーにアクセスすると自動的に初期値が設定される\n",
    "print(dd[\"a\"])  # 出力: 0\n",
    "print(dd[\"b\"])  # 出力: 0\n",
    "\n",
    "# 値を設定する\n",
    "dd[\"a\"] += 1\n",
    "print(dd[\"a\"])  # 出力: 1\n",
    "\n",
    "# 辞書の内容を確認\n",
    "print(dd)  # 出力: defaultdict(<class 'int'>, {'a': 1, 'b': 0})\n"
   ]
  },
  {
   "cell_type": "code",
   "execution_count": 11,
   "metadata": {},
   "outputs": [
    {
     "name": "stdout",
     "output_type": "stream",
     "text": [
      "[]\n",
      "[1, 2]\n"
     ]
    }
   ],
   "source": [
    "dd = defaultdict(list)\n",
    "print(dd[\"a\"])\n",
    "dd[\"a\"].append(1)\n",
    "dd[\"a\"].append(2)\n",
    "print(dd[\"a\"])"
   ]
  },
  {
   "cell_type": "code",
   "execution_count": 17,
   "metadata": {},
   "outputs": [],
   "source": [
    "class MonteCarloFirstVisit:\n",
    "    def __init__(self, states, gamma=0.9):\n",
    "        self.V = {s: 0.0 for s in states}  # 状態価値関数の初期化\n",
    "        self.returns = defaultdict(list)  # 状態ごとの収益リスト\n",
    "        self.gamma = gamma                # 割引率\n",
    "\n",
    "    def generate_episode(self, policy, max_steps=100):\n",
    "        \"\"\"\n",
    "        方策に従ってエピソードを生成する関数。\n",
    "        エピソード = [(state, action, reward), ...]\n",
    "        \"\"\"\n",
    "        episode = []\n",
    "        state = np.random.choice(list(self.V.keys()))  # ランダムに初期状態を選択\n",
    "        for _ in range(max_steps):\n",
    "            action = policy(state)  # 方策に基づいて行動を選択\n",
    "            next_state = np.random.choice(list(self.V.keys()))  # 仮の遷移\n",
    "            reward = np.random.normal(0, 1)  # 仮の報酬（ランダムに設定）\n",
    "            episode.append((state, action, reward))\n",
    "            state = next_state\n",
    "            if np.random.rand() < 0.1:  # 10%の確率でエピソードを終了\n",
    "                break\n",
    "        return episode\n",
    "    \n",
    "    def update(self,episode):\n",
    "        \"\"\"\n",
    "        エピソードを基に状態価値関数を更新する関数。\n",
    "        \"\"\"\n",
    "        visited_states = set()\n",
    "        for t, (state, action, reward) in enumerate(episode):\n",
    "            if state not in visited_states:\n",
    "                G = 0\n",
    "                for s,a,r in reversed(episode[t:]):\n",
    "                    G = self.gamma*G + r\n",
    "               \n",
    "                self.returns[state].append(G)\n",
    "                self.V[state] = np.mean(self.returns[state])\n",
    "                visited_states.add(state)\n",
    "\n"
   ]
  },
  {
   "cell_type": "code",
   "execution_count": 18,
   "metadata": {},
   "outputs": [],
   "source": [
    "def random_policy(state):\n",
    "    return np.random.choice([\"action1\", \"action2\", \"action3\"])"
   ]
  },
  {
   "cell_type": "code",
   "execution_count": 19,
   "metadata": {},
   "outputs": [
    {
     "name": "stdout",
     "output_type": "stream",
     "text": [
      "推定された状態価値関数:\n",
      "状態 A: -0.02\n",
      "状態 B: -0.05\n",
      "状態 C: -0.02\n",
      "状態 D: -0.11\n",
      "状態 E: -0.00\n"
     ]
    }
   ],
   "source": [
    "states = [\"A\", \"B\", \"C\", \"D\", \"E\"]  # 仮の状態集合\n",
    "mc = MonteCarloFirstVisit(states)\n",
    "\n",
    "# 複数のエピソードを生成して状態価値関数を更新\n",
    "for i in range(1000):  # 1000エピソード\n",
    "    episode = mc.generate_episode(random_policy)\n",
    "    mc.update(episode)\n",
    "\n",
    "# 結果を出力\n",
    "print(\"推定された状態価値関数:\")\n",
    "for state, value in mc.V.items():\n",
    "    print(f\"状態 {state}: {value:.2f}\")"
   ]
  },
  {
   "cell_type": "markdown",
   "metadata": {},
   "source": []
  }
 ],
 "metadata": {
  "kernelspec": {
   "display_name": "Python 3",
   "language": "python",
   "name": "python3"
  },
  "language_info": {
   "codemirror_mode": {
    "name": "ipython",
    "version": 3
   },
   "file_extension": ".py",
   "mimetype": "text/x-python",
   "name": "python",
   "nbconvert_exporter": "python",
   "pygments_lexer": "ipython3",
   "version": "3.12.1"
  }
 },
 "nbformat": 4,
 "nbformat_minor": 2
}
