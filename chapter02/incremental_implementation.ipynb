{
 "cells": [
  {
   "cell_type": "markdown",
   "metadata": {},
   "source": [
    "特徴と利点\n",
    "- 効率性:\n",
    "\n",
    "  - 新しい報酬 𝑅_𝑛を受け取るたびに、メモリ量 𝑄_𝑛と選択回数𝑛のみを使って更新可能。\n",
    "  - すべての報酬を保持したり再計算する必要がない。\n",
    "- 柔軟性:\n",
    "\n",
    "  - この逐次更新式は、報酬がノイズを含む場合や動的に変化する場合にも適用可能。\n",
    "  - 強化学習の他のアルゴリズムでも頻繁に利用される。"
   ]
  },
  {
   "cell_type": "code",
   "execution_count": 2,
   "metadata": {},
   "outputs": [
    {
     "name": "stdout",
     "output_type": "stream",
     "text": [
      "update Q : -1.0,Total Actions : 1\n",
      "update Q : 0.0,Total Actions : 2\n",
      "update Q : -0.6666666666666666,Total Actions : 3\n",
      "update Q : 0.0,Total Actions : 4\n",
      "update Q : 0.0,Total Actions : 5\n"
     ]
    }
   ],
   "source": [
    "def update_action_value(Q,n,reward):\n",
    "     n += 1\n",
    "     Q += 1/n * (reward - Q)\n",
    "     return Q, n\n",
    "\n",
    "rewards = [-1,1,-2,2,0]\n",
    "\n",
    "for reward in rewards:\n",
    "    Q,n =  update_action_value(Q,n,reward)\n",
    "    print(f\"update Q : {Q},Total Actions : {n}\")"
   ]
  }
 ],
 "metadata": {
  "kernelspec": {
   "display_name": "Python 3",
   "language": "python",
   "name": "python3"
  },
  "language_info": {
   "codemirror_mode": {
    "name": "ipython",
    "version": 3
   },
   "file_extension": ".py",
   "mimetype": "text/x-python",
   "name": "python",
   "nbconvert_exporter": "python",
   "pygments_lexer": "ipython3",
   "version": "3.12.1"
  }
 },
 "nbformat": 4,
 "nbformat_minor": 2
}
