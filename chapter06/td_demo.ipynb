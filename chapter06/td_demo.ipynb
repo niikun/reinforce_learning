{
 "cells": [
  {
   "cell_type": "code",
   "execution_count": 4,
   "metadata": {},
   "outputs": [
    {
     "name": "stdout",
     "output_type": "stream",
     "text": [
      "Estimated value function:\n",
      "{'A': 2.7993944001053634, 'B': 1.9999468772022246, 'C': 0.0, 'terminal': 0}\n"
     ]
    }
   ],
   "source": [
    "import numpy as np\n",
    "\n",
    "# TD(0) algorithm implementation\n",
    "def td_zero(env, policy, alpha=0.1, gamma=0.9, num_episodes=100):\n",
    "    \"\"\"\n",
    "    TD(0) algorithm for estimating the value function of a given policy.\n",
    "\n",
    "    Args:\n",
    "        env: Environment with states, actions, and rewards.\n",
    "        policy: Policy to evaluate (function that takes a state and returns an action).\n",
    "        alpha: Step size (learning rate).\n",
    "        gamma: Discount factor for future rewards.\n",
    "        num_episodes: Number of episodes to run.\n",
    "\n",
    "    Returns:\n",
    "        V: Estimated state-value function.\n",
    "    \"\"\"\n",
    "    # Initialize value function arbitrarily, V(s) = 0 for all states\n",
    "    V = {state: 0 for state in env.states}\n",
    "\n",
    "    for episode in range(num_episodes):\n",
    "        # Start a new episode\n",
    "        state = env.reset()  # Initialize the starting state\n",
    "        \n",
    "        while not env.is_terminal(state):\n",
    "            # Select an action based on the given policy\n",
    "            action = policy(state)\n",
    "            \n",
    "            # Take the action, observe reward and next state\n",
    "            reward, next_state = env.step(state, action)\n",
    "            \n",
    "            # Ensure next_state exists in V (handle unseen states dynamically)\n",
    "            if next_state not in V:\n",
    "                V[next_state] = 0  # Initialize unseen states with a default value\n",
    "            \n",
    "            # Update the value function using TD(0) formula\n",
    "            V[state] += alpha * (reward + gamma * V[next_state] - V[state])\n",
    "            \n",
    "            # Move to the next state\n",
    "            state = next_state\n",
    "\n",
    "    return V\n",
    "\n",
    "\n",
    "class ExampleEnv:\n",
    "    def __init__(self):\n",
    "        self.states = ['A', 'B', 'C', 'terminal']\n",
    "        self.terminal_state = 'terminal'\n",
    "\n",
    "    def reset(self):\n",
    "        return 'A'  # Starting state\n",
    "\n",
    "    def step(self, state, action):\n",
    "        transitions = {\n",
    "            'A': ('B', 1),  # 次状態 'B', 報酬 1\n",
    "            'B': ('C', 2),  # 次状態 'C', 報酬 2\n",
    "            'C': ('terminal', 0)  # 終端状態 'terminal', 報酬 0\n",
    "        }\n",
    "        if state in transitions:\n",
    "            return transitions[state][1], transitions[state][0]  # 報酬, 次状態\n",
    "        else:\n",
    "            raise ValueError(f\"Invalid state: {state}\")\n",
    "\n",
    "    def is_terminal(self, state):\n",
    "        return state == self.terminal_state\n",
    "\n",
    "\n",
    "def simple_policy(state):\n",
    "    # Example policy: always return a single predefined action\n",
    "    return 'move'\n",
    "\n",
    "# Create environment and policy\n",
    "env = ExampleEnv()\n",
    "policy = simple_policy\n",
    "\n",
    "# Run TD(0) algorithm\n",
    "value_function = td_zero(env, policy)\n",
    "print(\"Estimated value function:\")\n",
    "print(value_function)\n"
   ]
  },
  {
   "cell_type": "code",
   "execution_count": null,
   "metadata": {},
   "outputs": [],
   "source": []
  }
 ],
 "metadata": {
  "kernelspec": {
   "display_name": "Python 3",
   "language": "python",
   "name": "python3"
  },
  "language_info": {
   "codemirror_mode": {
    "name": "ipython",
    "version": 3
   },
   "file_extension": ".py",
   "mimetype": "text/x-python",
   "name": "python",
   "nbconvert_exporter": "python",
   "pygments_lexer": "ipython3",
   "version": "3.12.1"
  }
 },
 "nbformat": 4,
 "nbformat_minor": 2
}
