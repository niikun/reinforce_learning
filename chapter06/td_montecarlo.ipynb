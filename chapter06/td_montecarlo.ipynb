{
 "cells": [
  {
   "attachments": {
    "image.png": {
     "image/png": "[encoded data removed]"
    }
   },
   "cell_type": "markdown",
   "metadata": {},
   "source": [
    "![](attachment:image.png)\n"
   ]
  },
  {
   "cell_type": "code",
   "execution_count": 4,
   "metadata": {},
   "outputs": [],
   "source": [
    "import numpy as np\n",
    "\n",
    "# MRP環境の定義\n",
    "class MRP:\n",
    "    def __init__(self):\n",
    "        self.states = ['A', 'B', 'C', 'D', 'E']  # 状態空間\n",
    "        self.start_state = 'C'  # 初期状態\n",
    "        self.terminal_states = ['A', 'E']  # 終端状態\n",
    "        self.rewards = {'E': 1, 'A': 0}  # 報酬\n",
    "        self.transition_prob = 0.5  # 左右への遷移確率\n",
    "\n",
    "    def step(self,state):\n",
    "        if state in self.terminal_states:\n",
    "            return state, 0\n",
    "        idx = self.states.index(state)\n",
    "        if np.random.rand() < self.transition_prob:\n",
    "            nex_state = self.states[max(0, idx - 1)]\n",
    "        else:\n",
    "            nex_state = self.states[min(len(self.states) - 1, idx + 1)]\n",
    "        reward = self.rewards.get(nex_state, 0)\n",
    "        return nex_state, reward\n",
    "    \n",
    "    def reset(self):\n",
    "        return self.start_state"
   ]
  },
  {
   "cell_type": "markdown",
   "metadata": {},
   "source": [
    "TD(0)法"
   ]
  },
  {
   "cell_type": "code",
   "execution_count": 6,
   "metadata": {},
   "outputs": [],
   "source": [
    "def td_zero(env,alpha=0.1,gamma=1.0,episodes=500):\n",
    "    V = {state:0 for state in env.states}\n",
    "    for _ in range(episodes):\n",
    "        state = env.reset()\n",
    "        while state not in env.terminal_states:\n",
    "            next_state, reward = env.step(state)\n",
    "            V[state] += alpha * (reward + gamma * V[next_state] - V[state])\n",
    "            state = next_state\n",
    "    return V"
   ]
  },
  {
   "cell_type": "markdown",
   "metadata": {},
   "source": [
    "Monte Carlo法"
   ]
  },
  {
   "cell_type": "code",
   "execution_count": 21,
   "metadata": {},
   "outputs": [],
   "source": [
    "def monte_carlo(env, alpha=0.1, gamma=1.0, episodes=500):\n",
    "    V = {state: 0 for state in env.states}  # 初期化（全状態の価値を0に設定）\n",
    "    returns = {state: [] for state in env.states}  # 各状態のリターンを保存\n",
    "    for _ in range(episodes):\n",
    "        state = env.reset()\n",
    "        episode = []\n",
    "        \n",
    "        # エピソードを生成\n",
    "        while state not in env.terminal_states:\n",
    "            next_state, reward = env.step(state)\n",
    "            episode.append((state, reward))\n",
    "            state = next_state\n",
    "        episode.append((state, 0))  # 終端状態を追加\n",
    "\n",
    "        # 各状態に対してリターンを計算し、価値を更新\n",
    "        G = 0  # リターン\n",
    "        visited_states = set()\n",
    "        for state, reward in reversed(episode):\n",
    "            G = reward + gamma * G\n",
    "            if state not in visited_states: \n",
    "                visited_states.add(state)       \n",
    "                V[state] += alpha * (G - V[state])  # 定数ステップサイズによる更新\n",
    "    return V\n",
    "    \n",
    "\n"
   ]
  },
  {
   "cell_type": "code",
   "execution_count": 22,
   "metadata": {},
   "outputs": [
    {
     "name": "stdout",
     "output_type": "stream",
     "text": [
      "TD(0)による状態価値:\n",
      "A: 0.00\n",
      "B: 0.25\n",
      "C: 0.48\n",
      "D: 0.72\n",
      "E: 0.00\n",
      "\n",
      "Monte Carlo法による状態価値:\n",
      "A: 0.00\n",
      "B: 0.19\n",
      "C: 0.36\n",
      "D: 0.72\n",
      "E: 0.00\n"
     ]
    }
   ],
   "source": [
    "# TD(0)法による学習\n",
    "td_values = td_zero(env, alpha=0.1, episodes=1000)\n",
    "if td_values is None:\n",
    "    print(\"TD(0)関数が正しい結果を返していません！\")\n",
    "else:\n",
    "    print(\"TD(0)による状態価値:\")\n",
    "    for state, value in td_values.items():\n",
    "        print(f\"{state}: {value:.2f}\")\n",
    "\n",
    "# Monte Carlo法による学習\n",
    "mc_values = monte_carlo(env, alpha=0.1, episodes=1000)\n",
    "if mc_values is None:\n",
    "    print(\"Monte Carlo関数が正しい結果を返していません！\")\n",
    "else:\n",
    "    print(\"\\nMonte Carlo法による状態価値:\")\n",
    "    for state, value in mc_values.items():\n",
    "        print(f\"{state}: {value:.2f}\")\n"
   ]
  },
  {
   "cell_type": "code",
   "execution_count": null,
   "metadata": {},
   "outputs": [],
   "source": []
  }
 ],
 "metadata": {
  "kernelspec": {
   "display_name": "Python 3",
   "language": "python",
   "name": "python3"
  },
  "language_info": {
   "codemirror_mode": {
    "name": "ipython",
    "version": 3
   },
   "file_extension": ".py",
   "mimetype": "text/x-python",
   "name": "python",
   "nbconvert_exporter": "python",
   "pygments_lexer": "ipython3",
   "version": "3.12.1"
  }
 },
 "nbformat": 4,
 "nbformat_minor": 2
}
