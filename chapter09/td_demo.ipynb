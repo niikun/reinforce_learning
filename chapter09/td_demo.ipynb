{
 "cells": [
  {
   "cell_type": "markdown",
   "metadata": {},
   "source": [
    "## 予測問題の例とその役割\n",
    "予測問題 (Prediction Problem) は、「固定された方策 (𝜋) に基づいて、価値関数を正確に推定する」ことが目的です。  \n",
    "以下に具体的な例と、それがどのように役立つかを説明します。\n",
    "\n",
    "### 1. 予測問題の例  \n",
    "#### (1) ロボットの動作予測  \n",
    "状況:  \n",
    "\n",
    "ロボットが特定の方策 (π) に基づいて動いているとします。\n",
    "方策は「障害物を避けながらランダムに動き回る」もので、変更はしない。\n",
    "予測問題の目的:  \n",
    "\n",
    "各状態でロボットが「将来的にどれくらい報酬を得られるか」を計算。  \n",
    "役立つ理由:  \n",
    "得られた価値関数を分析することで、方策の性能や効率を評価。\n",
    "例えば、「エネルギー消費が少ない状態はどこか」を特定可能。  \n",
    "\n",
    "### (2) ゲームのプレイデータ分析\n",
    "状況:  \n",
    "チェスのようなゲームで、あるプレイヤーの過去の方策 (\n",
    "𝜋\n",
    "π) を再現。\n",
    "方策を変えずに、「その方策が特定の状態でどれだけ効果的だったか」を評価。  \n",
    "予測問題の目的:  \n",
    "\n",
    "方策に基づいて各状態 \n",
    "𝑠\n",
    "s の価値 \n",
    "𝑉\n",
    "𝜋\n",
    "(\n",
    "𝑠\n",
    ")\n",
    "V \n",
    "π\n",
    " (s) を計算。  \n",
    "\n",
    "役立つ理由:\n",
    "\n",
    "方策の改善をする前に、その方策の強みや弱点を定量的に評価可能。  \n",
    "\n",
    "### (3) 気象予測システム  \n",
    "状況:\n",
    "\n",
    "システムが固定された予測モデル (\n",
    "𝜋\n",
    "π) に基づいて「雨が降る確率」を計算する。  \n",
    "予測問題の目的:\n",
    "\n",
    "各状態（例えば、現在の気温や湿度）において、「雨が降る可能性（価値）」を予測。  \n",
    "役立つ理由:\n",
    "\n",
    "モデルの性能を評価することで、次の予測モデルの改善につなげる。  \n",
    "現行モデルの信頼性を分析。"
   ]
  },
  {
   "cell_type": "code",
   "execution_count": 1,
   "metadata": {},
   "outputs": [
    {
     "name": "stdout",
     "output_type": "stream",
     "text": [
      "Learned Value Function: [0.  0.  0.9 1.  0. ]\n"
     ]
    }
   ],
   "source": [
    "import numpy as np\n",
    "\n",
    "# 簡単な環境（5状態）\n",
    "class SimpleEnv:\n",
    "    def __init__(self):\n",
    "        self.states = [0, 1, 2, 3, 4]\n",
    "        self.terminal_states = [0, 4]\n",
    "    \n",
    "    def step(self, state, action):\n",
    "        if state in self.terminal_states:\n",
    "            return state, 0, True\n",
    "        next_state = state + action\n",
    "        reward = 1 if next_state == 4 else 0\n",
    "        done = next_state in self.terminal_states\n",
    "        return next_state, reward, done\n",
    "\n",
    "# Semi-Gradient TDで状態価値関数を予測\n",
    "def semi_gradient_td(env, policy, gamma, alpha, episodes):\n",
    "    w = np.zeros(len(env.states))  # 重みベクトル\n",
    "    for episode in range(episodes):\n",
    "        state = 2  # 初期状態\n",
    "        while True:\n",
    "            action = policy[state]\n",
    "            next_state, reward, done = env.step(state, action)\n",
    "            # TD更新\n",
    "            td_target = reward + gamma * w[next_state] if not done else reward\n",
    "            td_error = td_target - w[state]\n",
    "            w[state] += alpha * td_error\n",
    "            if done:\n",
    "                break\n",
    "            state = next_state\n",
    "    return w\n",
    "\n",
    "# 方策（右に進む）\n",
    "policy = {0: 0, 1: 1, 2: 1, 3: 1, 4: 0}  # 状態に応じた行動\n",
    "env = SimpleEnv()\n",
    "\n",
    "# 予測問題を解く\n",
    "value_function = semi_gradient_td(env, policy, gamma=0.9, alpha=0.1, episodes=1000)\n",
    "print(\"Learned Value Function:\", value_function)\n"
   ]
  },
  {
   "cell_type": "markdown",
   "metadata": {},
   "source": [
    "### 状態 3 にいるとき、状態 2 を選ばない理由\n",
    "状態 3 にいる場合、「状態 2 を選ぶ」ためには、現在の固定方策を変更する必要があります。\n",
    "\n",
    "- 予測問題の制約\n",
    "予測問題では「方策を固定」するため、状態 3 で状態 2 に戻る選択肢は考慮されません。\n",
    "この学習結果は、現在の固定方策に基づいて価値関数を正確に推定することを目的としています。\n",
    "- 制御問題との違い\n",
    "制御問題では、状態 3 の行動を最適化し、「状態 2 に戻る方が価値が高い」と判断されれば、方策を改善する可能性があります\n"
   ]
  },
  {
   "cell_type": "markdown",
   "metadata": {},
   "source": []
  },
  {
   "cell_type": "markdown",
   "metadata": {},
   "source": []
  },
  {
   "cell_type": "markdown",
   "metadata": {},
   "source": []
  }
 ],
 "metadata": {
  "kernelspec": {
   "display_name": "Python 3",
   "language": "python",
   "name": "python3"
  },
  "language_info": {
   "codemirror_mode": {
    "name": "ipython",
    "version": 3
   },
   "file_extension": ".py",
   "mimetype": "text/x-python",
   "name": "python",
   "nbconvert_exporter": "python",
   "pygments_lexer": "ipython3",
   "version": "3.12.1"
  }
 },
 "nbformat": 4,
 "nbformat_minor": 2
}
